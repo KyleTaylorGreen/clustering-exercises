{
 "cells": [
  {
   "cell_type": "code",
   "execution_count": 1,
   "id": "7dfae1c1",
   "metadata": {},
   "outputs": [],
   "source": [
    "# reloads import files each time a cell is ran\n",
    "%load_ext autoreload\n",
    "%autoreload 2\n",
    "\n",
    "import pandas as pd\n",
    "\n",
    "\n",
    "import scipy.stats as stats\n",
    "\n",
    "# Visualizing\n",
    "import matplotlib.pyplot as plt\n",
    "from matplotlib import cm\n",
    "import seaborn as sns\n",
    "from sklearn.model_selection import learning_curve\n",
    "import pandas as pd\n",
    "\n",
    "import modeling as md\n",
    "import wrangle as wr\n",
    "import exploration as exp\n",
    "import acquire\n",
    "import prepare\n",
    "import split"
   ]
  },
  {
   "cell_type": "code",
   "execution_count": null,
   "id": "5bff05ad",
   "metadata": {},
   "outputs": [
    {
     "name": "stdout",
     "output_type": "stream",
     "text": [
      "hello??\n",
      "brotherrrrr\n"
     ]
    }
   ],
   "source": [
    "zillow, cats, quants = wr.wrangle_zillow()\n",
    "zillow.head()"
   ]
  },
  {
   "cell_type": "code",
   "execution_count": null,
   "id": "74f00f22",
   "metadata": {},
   "outputs": [],
   "source": [
    "zillow = prepare.handle_missing_values(zillow)\n",
    "#zillow = zillow.dropna()\n",
    "\n",
    "target_var = 'logerror'"
   ]
  },
  {
   "cell_type": "code",
   "execution_count": null,
   "id": "39ee59f4",
   "metadata": {},
   "outputs": [],
   "source": [
    "cols_to_drop = ['id', 'calculatedbathnbr', 'finishedsquarefeet12', 'propertylandusetypeid',\n",
    "                'regionidzip', 'structuretaxvaluedollarcnt', 'assessmentyear',\n",
    "                'landtaxvaluedollarcnt', 'propertylandusedesc', 'id.1']\n",
    "cols_to_object = ['parcelid', 'rawcensustractandblock', 'regionidcity', 'regionidcounty',\n",
    "                 'censustractandblock']\n",
    "\n",
    "\n",
    "zillow[cols_to_object] = zillow[cols_to_object].astype('object')\n",
    "\n",
    "zillow=zillow.drop(columns=cols_to_drop)\n",
    "zillow=zillow.dropna()\n",
    "zillow.head()"
   ]
  },
  {
   "cell_type": "code",
   "execution_count": null,
   "id": "0fbfddf8",
   "metadata": {
    "scrolled": false
   },
   "outputs": [],
   "source": [
    "print(zillow.shape)\n",
    "\n",
    "for col in zillow.columns:\n",
    "    plt.hist(zillow[col])\n",
    "    plt.title(col)\n",
    "    plt.show()"
   ]
  },
  {
   "cell_type": "code",
   "execution_count": null,
   "id": "86584980",
   "metadata": {},
   "outputs": [],
   "source": [
    "train, validate, test = split.train_validate_test_split(zillow, target_var)\n",
    "train.head()"
   ]
  },
  {
   "cell_type": "code",
   "execution_count": null,
   "id": "edc58573",
   "metadata": {},
   "outputs": [],
   "source": [
    "zillow.info()"
   ]
  },
  {
   "cell_type": "code",
   "execution_count": null,
   "id": "ee27616c",
   "metadata": {},
   "outputs": [],
   "source": []
  }
 ],
 "metadata": {
  "kernelspec": {
   "display_name": "Python 3 (ipykernel)",
   "language": "python",
   "name": "python3"
  },
  "language_info": {
   "codemirror_mode": {
    "name": "ipython",
    "version": 3
   },
   "file_extension": ".py",
   "mimetype": "text/x-python",
   "name": "python",
   "nbconvert_exporter": "python",
   "pygments_lexer": "ipython3",
   "version": "3.9.7"
  }
 },
 "nbformat": 4,
 "nbformat_minor": 5
}
